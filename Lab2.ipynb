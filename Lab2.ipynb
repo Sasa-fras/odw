{
  "cells": [
    {
      "cell_type": "markdown",
      "metadata": {
        "id": "view-in-github",
        "colab_type": "text"
      },
      "source": [
        "<a href=\"https://colab.research.google.com/github/Sasa-fras/odw/blob/main/Lab2.ipynb\" target=\"_parent\"><img src=\"https://colab.research.google.com/assets/colab-badge.svg\" alt=\"Open In Colab\"/></a>"
      ]
    },
    {
      "cell_type": "markdown",
      "source": [
        "#Lab 2: Gravitational Waves"
      ],
      "metadata": {
        "id": "Pk8uWW6K7fph"
      },
      "id": "Pk8uWW6K7fph"
    },
    {
      "cell_type": "markdown",
      "source": [
        "####Import Stuff"
      ],
      "metadata": {
        "id": "-7QWcYO97uAz"
      },
      "id": "-7QWcYO97uAz"
    },
    {
      "cell_type": "code",
      "execution_count": 1,
      "metadata": {
        "id": "MqndRlG37ZZe",
        "outputId": "a54d6323-6e67-42a0-f986-29a00b336738",
        "colab": {
          "base_uri": "https://localhost:8080/"
        }
      },
      "outputs": [
        {
          "output_type": "stream",
          "name": "stdout",
          "text": [
            "\u001b[2K   \u001b[90m━━━━━━━━━━━━━━━━━━━━━━━━━━━━━━━━━━━━━━━━\u001b[0m \u001b[32m10.4/10.4 MB\u001b[0m \u001b[31m56.0 MB/s\u001b[0m eta \u001b[36m0:00:00\u001b[0m\n",
            "\u001b[?25h"
          ]
        }
      ],
      "source": [
        "import warnings\n",
        "warnings.filterwarnings(\"ignore\", \"Wswiglal-redir-stdio\")\n",
        "#Tutorial 1.1\n",
        "! pip install -q 'gwosc==0.7.1'\n",
        "import gwosc\n",
        "from gwosc import datasets\n",
        "from gwosc.datasets import find_datasets\n",
        "from gwosc.datasets import event_gps\n",
        "from gwosc.datasets import event_at_gps\n",
        "from gwosc.datasets import run_segment\n",
        "from gwosc.datasets import run_at_gps\n",
        "from gwosc.locate import get_event_urls\n",
        "from gwosc.datasets import query_events\n",
        "#Tutorial 1.2 & 1.3\n",
        "! pip install -q 'gwpy==3.0.12'\n",
        "import gwpy\n",
        "from gwpy.timeseries import TimeSeries\n",
        "from scipy.signal import get_window\n",
        "#Tutorial 1.4\n",
        "! pip install -q 'lalsuite==7.25' 'PyCBC==2.4.1'\n",
        "import matplotlib.pyplot as plt\n",
        "from pycbc.waveform import get_td_waveform, get_fd_waveform, fd_approximants, td_approximants\n",
        "#Tutorial 2.1\n",
        "import numpy\n",
        "# https://pycbc.org/pycbc/latest/html/noise.html\n",
        "import pycbc.noise\n",
        "import pycbc.psd\n",
        "from pycbc.types import TimeSeries\n",
        "#Tutorial 2.2\n",
        "! pip install -q -U 'scipy==1.12.0'\n",
        "from pycbc.catalog import Merger\n",
        "from pycbc.filter import resample_to_delta_t, highpass\n",
        "from pycbc.psd import interpolate, inverse_spectrum_truncation\n",
        "from pycbc.filter import matched_filter\n",
        "from pycbc.filter import sigma\n",
        "from pycbc.frame import read_frame\n",
        "import os\n",
        "import urllib\n",
        "#Tutorial 2.3\n",
        "# WARNING!! If you are having problems with this code, replace the import with\n",
        "#from pycbc_chisq import power_chisq\n",
        "from pycbc.vetoes import power_chisq\n",
        "from pycbc.events.ranking import newsnr\n",
        "from pycbc.detector import Detector\n",
        "#Tutorial 3.1\n",
        "! pip install -U -q 'bilby==2.4.0' 'matplotlib==3.10.0' 'dynesty==2.1.5' 'corner==2.2.3'\n",
        "import numpy as np\n",
        "# The first import of matplotlib can take some time (especially on cloud platforms). This is normal.\n",
        "import matplotlib\n",
        "import scipy\n",
        "import bilby\n",
        "import corner\n",
        "#Tutorial 3.2\n",
        "from bilby.core.prior import Uniform, PowerLaw\n",
        "from bilby.gw.conversion import convert_to_lal_binary_black_hole_parameters, generate_all_bbh_parameters\n",
        "#Tutorial 3.3\n",
        "! pip install -U -q 'astropy==7.0.1'\n",
        "import h5py\n",
        "import pandas as pd\n",
        "import astropy.units as u\n",
        "from astropy.cosmology import Planck15, z_at_value\n",
        "#Tutorial 3.4\n"
      ],
      "id": "MqndRlG37ZZe"
    },
    {
      "cell_type": "code",
      "source": [
        "#Gather every single event and add it to a database where object oriented programing is used to attribute the correct catalog, run, and observatory to each event\n",
        "\n",
        "#Create the empty dataframe\n",
        "DATA = pd.DataFrame({'Catalog':[],'Run':[],'Detector':[],'Event':[],'Time':[],'gps':[]})\n",
        "\n",
        "\n",
        "#Populate the dataframe\n",
        "for r in find_datasets(type='run'):\n",
        "  for c in find_datasets(type='catalog', segment=run_segment(r)):\n",
        "    for e in find_datasets(type='event', catalog=c, segment=run_segment(r)):\n",
        "      DATA.loc[len(DATA)] = [c, r, datasets.event_detectors(e), e, gwpy.time.tconvert(event_gps(e)), event_gps(e)]\n",
        "\n",
        "\n"
      ],
      "metadata": {
        "id": "heyK3-Ih7tbh"
      },
      "id": "heyK3-Ih7tbh",
      "execution_count": 18,
      "outputs": []
    },
    {
      "cell_type": "code",
      "source": [
        "#reduce the dataset by making sure only the highest version of each event is present, e.g. if there are 3 events with the same string except that one ends in -v1, -v2, -v3, then only the one that ends in -v3 should remain and then the name should be changed so the -vx is removed from the string\n",
        "\n",
        "# Sort by Event in descending order to easily get the latest version\n",
        "DATA = DATA.sort_values(by=['Event'], ascending=False)\n",
        "\n",
        "# Drop duplicates based on the base event name (remove the -vx suffix for comparison)\n",
        "# We keep the first occurrence after sorting, which is the latest version\n",
        "DATA['Event_Base'] = DATA['Event'].str.replace(r'-v\\d+$', '', regex=True)\n",
        "DATA = DATA.drop_duplicates(subset=['Event_Base'], keep='first')\n",
        "\n",
        "# Remove the version suffix from the Event column\n",
        "DATA['Event'] = DATA['Event_Base']\n",
        "\n",
        "# Drop the temporary 'Event_Base' column\n",
        "DATA = DATA.drop(columns=['Event_Base'])\n",
        "\n",
        "# Reset the index after dropping rows\n",
        "DATA = DATA.reset_index(drop=True)\n",
        "\n",
        "# Print the updated DataFrame head to show the result\n",
        "display(DATA.head())"
      ],
      "metadata": {
        "colab": {
          "base_uri": "https://localhost:8080/",
          "height": 206
        },
        "id": "MGysqVu-70xA",
        "outputId": "5f5b4f47-9311-404f-f3db-5fd4aa9e4d68"
      },
      "id": "MGysqVu-70xA",
      "execution_count": 17,
      "outputs": [
        {
          "output_type": "display_data",
          "data": {
            "text/plain": [
              "               Catalog                Run  Detector            Event  \\\n",
              "0   Initial_LIGO_Virgo                 S6  {H1, L1}  blind_injection   \n",
              "1  O4_Discovery_Papers  O4b3Disc_16KHZ_R1  {H1, L1}  GW250114_082203   \n",
              "2             GWTC-4.0        O4a_4KHZ_R1      {H1}  GW240109_050431   \n",
              "3             GWTC-4.0        O4a_4KHZ_R1  {H1, L1}  GW240107_013215   \n",
              "4             GWTC-4.0       O4a_16KHZ_R1      {H1}  GW240105_151143   \n",
              "\n",
              "                     Time           gps       Object_Name  \n",
              "0 2010-09-16 06:42:22.900  9.686546e+08  _blind_injection  \n",
              "1 2025-01-14 08:22:03.200  1.420878e+09  _GW250114_082203  \n",
              "2 2024-01-09 05:04:31.800  1.388812e+09  _GW240109_050431  \n",
              "3 2024-01-07 01:32:15.700  1.388626e+09  _GW240107_013215  \n",
              "4 2024-01-05 15:11:43.200  1.388503e+09  _GW240105_151143  "
            ],
            "text/html": [
              "\n",
              "  <div id=\"df-5489e24c-ba18-48a9-acf3-4fb01d8ab475\" class=\"colab-df-container\">\n",
              "    <div>\n",
              "<style scoped>\n",
              "    .dataframe tbody tr th:only-of-type {\n",
              "        vertical-align: middle;\n",
              "    }\n",
              "\n",
              "    .dataframe tbody tr th {\n",
              "        vertical-align: top;\n",
              "    }\n",
              "\n",
              "    .dataframe thead th {\n",
              "        text-align: right;\n",
              "    }\n",
              "</style>\n",
              "<table border=\"1\" class=\"dataframe\">\n",
              "  <thead>\n",
              "    <tr style=\"text-align: right;\">\n",
              "      <th></th>\n",
              "      <th>Catalog</th>\n",
              "      <th>Run</th>\n",
              "      <th>Detector</th>\n",
              "      <th>Event</th>\n",
              "      <th>Time</th>\n",
              "      <th>gps</th>\n",
              "      <th>Object_Name</th>\n",
              "    </tr>\n",
              "  </thead>\n",
              "  <tbody>\n",
              "    <tr>\n",
              "      <th>0</th>\n",
              "      <td>Initial_LIGO_Virgo</td>\n",
              "      <td>S6</td>\n",
              "      <td>{H1, L1}</td>\n",
              "      <td>blind_injection</td>\n",
              "      <td>2010-09-16 06:42:22.900</td>\n",
              "      <td>9.686546e+08</td>\n",
              "      <td>_blind_injection</td>\n",
              "    </tr>\n",
              "    <tr>\n",
              "      <th>1</th>\n",
              "      <td>O4_Discovery_Papers</td>\n",
              "      <td>O4b3Disc_16KHZ_R1</td>\n",
              "      <td>{H1, L1}</td>\n",
              "      <td>GW250114_082203</td>\n",
              "      <td>2025-01-14 08:22:03.200</td>\n",
              "      <td>1.420878e+09</td>\n",
              "      <td>_GW250114_082203</td>\n",
              "    </tr>\n",
              "    <tr>\n",
              "      <th>2</th>\n",
              "      <td>GWTC-4.0</td>\n",
              "      <td>O4a_4KHZ_R1</td>\n",
              "      <td>{H1}</td>\n",
              "      <td>GW240109_050431</td>\n",
              "      <td>2024-01-09 05:04:31.800</td>\n",
              "      <td>1.388812e+09</td>\n",
              "      <td>_GW240109_050431</td>\n",
              "    </tr>\n",
              "    <tr>\n",
              "      <th>3</th>\n",
              "      <td>GWTC-4.0</td>\n",
              "      <td>O4a_4KHZ_R1</td>\n",
              "      <td>{H1, L1}</td>\n",
              "      <td>GW240107_013215</td>\n",
              "      <td>2024-01-07 01:32:15.700</td>\n",
              "      <td>1.388626e+09</td>\n",
              "      <td>_GW240107_013215</td>\n",
              "    </tr>\n",
              "    <tr>\n",
              "      <th>4</th>\n",
              "      <td>GWTC-4.0</td>\n",
              "      <td>O4a_16KHZ_R1</td>\n",
              "      <td>{H1}</td>\n",
              "      <td>GW240105_151143</td>\n",
              "      <td>2024-01-05 15:11:43.200</td>\n",
              "      <td>1.388503e+09</td>\n",
              "      <td>_GW240105_151143</td>\n",
              "    </tr>\n",
              "  </tbody>\n",
              "</table>\n",
              "</div>\n",
              "    <div class=\"colab-df-buttons\">\n",
              "\n",
              "  <div class=\"colab-df-container\">\n",
              "    <button class=\"colab-df-convert\" onclick=\"convertToInteractive('df-5489e24c-ba18-48a9-acf3-4fb01d8ab475')\"\n",
              "            title=\"Convert this dataframe to an interactive table.\"\n",
              "            style=\"display:none;\">\n",
              "\n",
              "  <svg xmlns=\"http://www.w3.org/2000/svg\" height=\"24px\" viewBox=\"0 -960 960 960\">\n",
              "    <path d=\"M120-120v-720h720v720H120Zm60-500h600v-160H180v160Zm220 220h160v-160H400v160Zm0 220h160v-160H400v160ZM180-400h160v-160H180v160Zm440 0h160v-160H620v160ZM180-180h160v-160H180v160Zm440 0h160v-160H620v160Z\"/>\n",
              "  </svg>\n",
              "    </button>\n",
              "\n",
              "  <style>\n",
              "    .colab-df-container {\n",
              "      display:flex;\n",
              "      gap: 12px;\n",
              "    }\n",
              "\n",
              "    .colab-df-convert {\n",
              "      background-color: #E8F0FE;\n",
              "      border: none;\n",
              "      border-radius: 50%;\n",
              "      cursor: pointer;\n",
              "      display: none;\n",
              "      fill: #1967D2;\n",
              "      height: 32px;\n",
              "      padding: 0 0 0 0;\n",
              "      width: 32px;\n",
              "    }\n",
              "\n",
              "    .colab-df-convert:hover {\n",
              "      background-color: #E2EBFA;\n",
              "      box-shadow: 0px 1px 2px rgba(60, 64, 67, 0.3), 0px 1px 3px 1px rgba(60, 64, 67, 0.15);\n",
              "      fill: #174EA6;\n",
              "    }\n",
              "\n",
              "    .colab-df-buttons div {\n",
              "      margin-bottom: 4px;\n",
              "    }\n",
              "\n",
              "    [theme=dark] .colab-df-convert {\n",
              "      background-color: #3B4455;\n",
              "      fill: #D2E3FC;\n",
              "    }\n",
              "\n",
              "    [theme=dark] .colab-df-convert:hover {\n",
              "      background-color: #434B5C;\n",
              "      box-shadow: 0px 1px 3px 1px rgba(0, 0, 0, 0.15);\n",
              "      filter: drop-shadow(0px 1px 2px rgba(0, 0, 0, 0.3));\n",
              "      fill: #FFFFFF;\n",
              "    }\n",
              "  </style>\n",
              "\n",
              "    <script>\n",
              "      const buttonEl =\n",
              "        document.querySelector('#df-5489e24c-ba18-48a9-acf3-4fb01d8ab475 button.colab-df-convert');\n",
              "      buttonEl.style.display =\n",
              "        google.colab.kernel.accessAllowed ? 'block' : 'none';\n",
              "\n",
              "      async function convertToInteractive(key) {\n",
              "        const element = document.querySelector('#df-5489e24c-ba18-48a9-acf3-4fb01d8ab475');\n",
              "        const dataTable =\n",
              "          await google.colab.kernel.invokeFunction('convertToInteractive',\n",
              "                                                    [key], {});\n",
              "        if (!dataTable) return;\n",
              "\n",
              "        const docLinkHtml = 'Like what you see? Visit the ' +\n",
              "          '<a target=\"_blank\" href=https://colab.research.google.com/notebooks/data_table.ipynb>data table notebook</a>'\n",
              "          + ' to learn more about interactive tables.';\n",
              "        element.innerHTML = '';\n",
              "        dataTable['output_type'] = 'display_data';\n",
              "        await google.colab.output.renderOutput(dataTable, element);\n",
              "        const docLink = document.createElement('div');\n",
              "        docLink.innerHTML = docLinkHtml;\n",
              "        element.appendChild(docLink);\n",
              "      }\n",
              "    </script>\n",
              "  </div>\n",
              "\n",
              "\n",
              "    <div id=\"df-d2114f66-e92e-42ae-954b-6fbe299bf51e\">\n",
              "      <button class=\"colab-df-quickchart\" onclick=\"quickchart('df-d2114f66-e92e-42ae-954b-6fbe299bf51e')\"\n",
              "                title=\"Suggest charts\"\n",
              "                style=\"display:none;\">\n",
              "\n",
              "<svg xmlns=\"http://www.w3.org/2000/svg\" height=\"24px\"viewBox=\"0 0 24 24\"\n",
              "     width=\"24px\">\n",
              "    <g>\n",
              "        <path d=\"M19 3H5c-1.1 0-2 .9-2 2v14c0 1.1.9 2 2 2h14c1.1 0 2-.9 2-2V5c0-1.1-.9-2-2-2zM9 17H7v-7h2v7zm4 0h-2V7h2v10zm4 0h-2v-4h2v4z\"/>\n",
              "    </g>\n",
              "</svg>\n",
              "      </button>\n",
              "\n",
              "<style>\n",
              "  .colab-df-quickchart {\n",
              "      --bg-color: #E8F0FE;\n",
              "      --fill-color: #1967D2;\n",
              "      --hover-bg-color: #E2EBFA;\n",
              "      --hover-fill-color: #174EA6;\n",
              "      --disabled-fill-color: #AAA;\n",
              "      --disabled-bg-color: #DDD;\n",
              "  }\n",
              "\n",
              "  [theme=dark] .colab-df-quickchart {\n",
              "      --bg-color: #3B4455;\n",
              "      --fill-color: #D2E3FC;\n",
              "      --hover-bg-color: #434B5C;\n",
              "      --hover-fill-color: #FFFFFF;\n",
              "      --disabled-bg-color: #3B4455;\n",
              "      --disabled-fill-color: #666;\n",
              "  }\n",
              "\n",
              "  .colab-df-quickchart {\n",
              "    background-color: var(--bg-color);\n",
              "    border: none;\n",
              "    border-radius: 50%;\n",
              "    cursor: pointer;\n",
              "    display: none;\n",
              "    fill: var(--fill-color);\n",
              "    height: 32px;\n",
              "    padding: 0;\n",
              "    width: 32px;\n",
              "  }\n",
              "\n",
              "  .colab-df-quickchart:hover {\n",
              "    background-color: var(--hover-bg-color);\n",
              "    box-shadow: 0 1px 2px rgba(60, 64, 67, 0.3), 0 1px 3px 1px rgba(60, 64, 67, 0.15);\n",
              "    fill: var(--button-hover-fill-color);\n",
              "  }\n",
              "\n",
              "  .colab-df-quickchart-complete:disabled,\n",
              "  .colab-df-quickchart-complete:disabled:hover {\n",
              "    background-color: var(--disabled-bg-color);\n",
              "    fill: var(--disabled-fill-color);\n",
              "    box-shadow: none;\n",
              "  }\n",
              "\n",
              "  .colab-df-spinner {\n",
              "    border: 2px solid var(--fill-color);\n",
              "    border-color: transparent;\n",
              "    border-bottom-color: var(--fill-color);\n",
              "    animation:\n",
              "      spin 1s steps(1) infinite;\n",
              "  }\n",
              "\n",
              "  @keyframes spin {\n",
              "    0% {\n",
              "      border-color: transparent;\n",
              "      border-bottom-color: var(--fill-color);\n",
              "      border-left-color: var(--fill-color);\n",
              "    }\n",
              "    20% {\n",
              "      border-color: transparent;\n",
              "      border-left-color: var(--fill-color);\n",
              "      border-top-color: var(--fill-color);\n",
              "    }\n",
              "    30% {\n",
              "      border-color: transparent;\n",
              "      border-left-color: var(--fill-color);\n",
              "      border-top-color: var(--fill-color);\n",
              "      border-right-color: var(--fill-color);\n",
              "    }\n",
              "    40% {\n",
              "      border-color: transparent;\n",
              "      border-right-color: var(--fill-color);\n",
              "      border-top-color: var(--fill-color);\n",
              "    }\n",
              "    60% {\n",
              "      border-color: transparent;\n",
              "      border-right-color: var(--fill-color);\n",
              "    }\n",
              "    80% {\n",
              "      border-color: transparent;\n",
              "      border-right-color: var(--fill-color);\n",
              "      border-bottom-color: var(--fill-color);\n",
              "    }\n",
              "    90% {\n",
              "      border-color: transparent;\n",
              "      border-bottom-color: var(--fill-color);\n",
              "    }\n",
              "  }\n",
              "</style>\n",
              "\n",
              "      <script>\n",
              "        async function quickchart(key) {\n",
              "          const quickchartButtonEl =\n",
              "            document.querySelector('#' + key + ' button');\n",
              "          quickchartButtonEl.disabled = true;  // To prevent multiple clicks.\n",
              "          quickchartButtonEl.classList.add('colab-df-spinner');\n",
              "          try {\n",
              "            const charts = await google.colab.kernel.invokeFunction(\n",
              "                'suggestCharts', [key], {});\n",
              "          } catch (error) {\n",
              "            console.error('Error during call to suggestCharts:', error);\n",
              "          }\n",
              "          quickchartButtonEl.classList.remove('colab-df-spinner');\n",
              "          quickchartButtonEl.classList.add('colab-df-quickchart-complete');\n",
              "        }\n",
              "        (() => {\n",
              "          let quickchartButtonEl =\n",
              "            document.querySelector('#df-d2114f66-e92e-42ae-954b-6fbe299bf51e button');\n",
              "          quickchartButtonEl.style.display =\n",
              "            google.colab.kernel.accessAllowed ? 'block' : 'none';\n",
              "        })();\n",
              "      </script>\n",
              "    </div>\n",
              "\n",
              "    </div>\n",
              "  </div>\n"
            ],
            "application/vnd.google.colaboratory.intrinsic+json": {
              "type": "dataframe",
              "summary": "{\n  \"name\": \"display(DATA\",\n  \"rows\": 5,\n  \"fields\": [\n    {\n      \"column\": \"Catalog\",\n      \"properties\": {\n        \"dtype\": \"string\",\n        \"num_unique_values\": 3,\n        \"samples\": [\n          \"Initial_LIGO_Virgo\",\n          \"O4_Discovery_Papers\",\n          \"GWTC-4.0\"\n        ],\n        \"semantic_type\": \"\",\n        \"description\": \"\"\n      }\n    },\n    {\n      \"column\": \"Run\",\n      \"properties\": {\n        \"dtype\": \"string\",\n        \"num_unique_values\": 4,\n        \"samples\": [\n          \"O4b3Disc_16KHZ_R1\",\n          \"O4a_16KHZ_R1\",\n          \"S6\"\n        ],\n        \"semantic_type\": \"\",\n        \"description\": \"\"\n      }\n    },\n    {\n      \"column\": \"Detector\",\n      \"properties\": {\n        \"dtype\": \"object\",\n        \"semantic_type\": \"\",\n        \"description\": \"\"\n      }\n    },\n    {\n      \"column\": \"Event\",\n      \"properties\": {\n        \"dtype\": \"string\",\n        \"num_unique_values\": 5,\n        \"samples\": [\n          \"GW250114_082203\",\n          \"GW240105_151143\",\n          \"GW240109_050431\"\n        ],\n        \"semantic_type\": \"\",\n        \"description\": \"\"\n      }\n    },\n    {\n      \"column\": \"Time\",\n      \"properties\": {\n        \"dtype\": \"date\",\n        \"min\": \"2010-09-16 06:42:22.900000\",\n        \"max\": \"2025-01-14 08:22:03.200000\",\n        \"num_unique_values\": 5,\n        \"samples\": [\n          \"2025-01-14 08:22:03.200000\",\n          \"2024-01-05 15:11:43.200000\",\n          \"2024-01-09 05:04:31.800000\"\n        ],\n        \"semantic_type\": \"\",\n        \"description\": \"\"\n      }\n    },\n    {\n      \"column\": \"gps\",\n      \"properties\": {\n        \"dtype\": \"number\",\n        \"std\": 191937994.90013847,\n        \"min\": 968654557.9,\n        \"max\": 1420878141.2,\n        \"num_unique_values\": 5,\n        \"samples\": [\n          1420878141.2,\n          1388502721.2,\n          1388811889.8\n        ],\n        \"semantic_type\": \"\",\n        \"description\": \"\"\n      }\n    },\n    {\n      \"column\": \"Object_Name\",\n      \"properties\": {\n        \"dtype\": \"string\",\n        \"num_unique_values\": 5,\n        \"samples\": [\n          \"_GW250114_082203\",\n          \"_GW240105_151143\",\n          \"_GW240109_050431\"\n        ],\n        \"semantic_type\": \"\",\n        \"description\": \"\"\n      }\n    }\n  ]\n}"
            }
          },
          "metadata": {}
        }
      ]
    },
    {
      "cell_type": "code",
      "source": [
        "#sort the datafram by time, and then by event if the times are identical\n",
        "DATA = DATA.sort_values(by=['Time', 'Event'])\n",
        "DATA['Catalog'] = DATA['Catalog'].astype(str)\n",
        "DATA['Run'] = DATA['Run'].astype(str)\n",
        "DATA['Event'] = DATA['Event'].astype(str)\n",
        "DATA['gps'] = DATA['gps'].astype(float)\n",
        "\n",
        "#reindex\n",
        "DATA = DATA.reset_index(drop=True)\n",
        "\n",
        "# Set options to display all rows and columns\n",
        "pd.set_option('display.max_rows', None)\n",
        "pd.set_option('display.max_columns', None)\n",
        "pd.set_option('display.width', 1000) # Adjust as needed for your console width\n",
        "\n",
        "#print(DATA)\n",
        "\n",
        "# Reset options to default if needed\n",
        "pd.reset_option('display.max_rows')\n",
        "pd.reset_option('display.max_columns')\n",
        "pd.reset_option('display.width')"
      ],
      "metadata": {
        "collapsed": true,
        "id": "LPxre41yHJBr"
      },
      "id": "LPxre41yHJBr",
      "execution_count": 11,
      "outputs": []
    },
    {
      "cell_type": "code",
      "source": [
        "#Try using object oriented programming to create a Class called 'event' which can be used to more easily access the other variables associated with each event\n",
        "\n",
        "class Event:\n",
        "  def __init__(self, Catalog, Run, Detector, Event, Time, gps):\n",
        "    self.Catalog = Catalog\n",
        "    self.Run = Run\n",
        "    self.Detector = Detector\n",
        "    self.Event = Event\n",
        "    self.Time = Time\n",
        "    self.gps = gps\n",
        "\n",
        "#if event name has a '-' replace it with a '_' for the event_name\n",
        "#if event name has a '.' replace it with a '_' for the event_name\n",
        "#if event name starts with a number, append a '_' in the front of the event_name\n",
        "#actually, just put a '_' infront of every name to be consistent\n",
        "for i in range(len(DATA)):\n",
        "  event_name = DATA['Event'][i]\n",
        "  if '-' in event_name:\n",
        "    event_name = event_name.replace('-', '_')\n",
        "  if '.' in event_name:\n",
        "    event_name = event_name.replace('.', '_')\n",
        "  event_name = '_' + event_name\n",
        "  globals()[event_name] = Event(DATA['Catalog'][i], DATA['Run'][i], DATA['Detector'][i], DATA['Event'][i], DATA['Time'][i], DATA['gps'][i])"
      ],
      "metadata": {
        "id": "VPpc_pUkPJRC"
      },
      "id": "VPpc_pUkPJRC",
      "execution_count": 12,
      "outputs": []
    },
    {
      "cell_type": "code",
      "source": [
        "print(datasets.find_datasets(type='events'))"
      ],
      "metadata": {
        "id": "eNS7vLjbVDjS",
        "outputId": "8557126f-5c96-4bee-9149-1c4b60d40690",
        "colab": {
          "base_uri": "https://localhost:8080/"
        }
      },
      "id": "eNS7vLjbVDjS",
      "execution_count": 13,
      "outputs": [
        {
          "output_type": "stream",
          "name": "stdout",
          "text": [
            "['151008-v1', '151012.2-v1', '151116-v1', '161202-v1', '161217-v1', '170208-v1', '170219-v1', '170405-v1', '170412-v1', '170423-v1', '170616-v1', '170630-v1', '170705-v1', '170720-v1', '190924_232654-v1', '191118_212859-v1', '191223_014159-v1', '191225_215715-v1', '200114_020818-v1', '200121_031748-v1', '200201_203549-v1', '200214_224526-v1', '200214_224526-v2', '200219_201407-v1', '200311_103121-v1', 'GRB051103-v1', 'GW150914-v1', 'GW150914-v2', 'GW150914-v3', 'GW151012-v1', 'GW151012-v2', 'GW151012-v3', 'GW151226-v1', 'GW151226-v2', 'GW170104-v1', 'GW170104-v2', 'GW170608-v1', 'GW170608-v2', 'GW170608-v3', 'GW170729-v1', 'GW170809-v1', 'GW170814-v1', 'GW170814-v2', 'GW170814-v3', 'GW170817-v1', 'GW170817-v2', 'GW170817-v3', 'GW170818-v1', 'GW170823-v1', 'GW190403_051519-v1', 'GW190408_181802-v1', 'GW190408_181802-v2', 'GW190408_181802-v3', 'GW190412-v1', 'GW190412-v2', 'GW190412-v3', 'GW190412-v5', 'GW190412_053044-v4', 'GW190413_052954-v1', 'GW190413_052954-v2', 'GW190413_052954-v3', 'GW190413_134308-v1', 'GW190413_134308-v2', 'GW190413_134308-v3', 'GW190421_213856-v1', 'GW190421_213856-v2', 'GW190421_213856-v3', 'GW190424_180648-v1', 'GW190424_180648-v2', 'GW190425-v1', 'GW190425-v2', 'GW190425_081805-v3', 'GW190426_152155-v1', 'GW190426_152155-v2', 'GW190426_190642-v1', 'GW190503_185404-v1', 'GW190503_185404-v2', 'GW190503_185404-v3', 'GW190512_180714-v1', 'GW190512_180714-v2', 'GW190512_180714-v3', 'GW190513_205428-v1', 'GW190513_205428-v2', 'GW190513_205428-v3', 'GW190514_065416-v1', 'GW190514_065416-v2', 'GW190514_065416-v3', 'GW190517_055101-v1', 'GW190517_055101-v2', 'GW190517_055101-v3', 'GW190519_153544-v1', 'GW190519_153544-v2', 'GW190519_153544-v3', 'GW190521-v1', 'GW190521-v2', 'GW190521-v3', 'GW190521_030229-v4', 'GW190521_074359-v1', 'GW190521_074359-v2', 'GW190521_074359-v3', 'GW190527_092055-v1', 'GW190527_092055-v2', 'GW190527_092055-v3', 'GW190531_023648-v1', 'GW190602_175927-v1', 'GW190602_175927-v2', 'GW190602_175927-v3', 'GW190620_030421-v1', 'GW190620_030421-v2', 'GW190630_185205-v1', 'GW190630_185205-v2', 'GW190701_203306-v1', 'GW190701_203306-v2', 'GW190704_104834-v1', 'GW190706_222641-v1', 'GW190706_222641-v2', 'GW190706_222641-v3', 'GW190707_083226-v1', 'GW190707_093326-v1', 'GW190707_093326-v2', 'GW190707_093326-v3', 'GW190708_232457-v1', 'GW190708_232457-v2', 'GW190711_030756-v1', 'GW190718_160159-v1', 'GW190719_215514-v1', 'GW190719_215514-v2', 'GW190719_215514-v3', 'GW190720_000836-v1', 'GW190720_000836-v2', 'GW190720_000836-v3', 'GW190725_174728-v1', 'GW190725_174728-v2', 'GW190727_060333-v1', 'GW190727_060333-v2', 'GW190727_060333-v3', 'GW190728_064510-v1', 'GW190728_064510-v2', 'GW190728_064510-v3', 'GW190731_140936-v1', 'GW190731_140936-v2', 'GW190731_140936-v3', 'GW190803_022701-v1', 'GW190803_022701-v2', 'GW190803_022701-v3', 'GW190805_211137-v1', 'GW190805_211137-v2', 'GW190814-v1', 'GW190814-v2', 'GW190814_192009-v1', 'GW190814_211039-v3', 'GW190818_232544-v1', 'GW190821_124821-v1', 'GW190828_063405-v1', 'GW190828_063405-v2', 'GW190828_063405-v3', 'GW190828_065509-v1', 'GW190828_065509-v2', 'GW190828_065509-v3', 'GW190906_054335-v1', 'GW190909_114149-v1', 'GW190909_114149-v2', 'GW190909_114149-v3', 'GW190910_012619-v1', 'GW190910_112807-v1', 'GW190910_112807-v2', 'GW190915_235702-v1', 'GW190915_235702-v2', 'GW190915_235702-v3', 'GW190916_200658-v1', 'GW190916_200658-v2', 'GW190917_114630-v1', 'GW190920_113516-v1', 'GW190924_021846-v1', 'GW190924_021846-v2', 'GW190925_232845-v1', 'GW190926_050336-v1', 'GW190926_050336-v2', 'GW190929_012149-v1', 'GW190929_012149-v2', 'GW190929_012149-v3', 'GW190930_133541-v1', 'GW190930_133541-v2', 'GW190930_133541-v3', 'GW191103_012549-v1', 'GW191105_143521-v1', 'GW191109_010717-v1', 'GW191113_071753-v1', 'GW191126_115259-v1', 'GW191127_050227-v1', 'GW191129_134029-v1', 'GW191204_110529-v1', 'GW191204_171526-v1', 'GW191215_223052-v1', 'GW191216_213338-v1', 'GW191219_163120-v1', 'GW191222_033537-v1', 'GW191230_180458-v1', 'GW200105-v1', 'GW200105_162426-v2', 'GW200112_155838-v1', 'GW200115-v1', 'GW200115_042309-v2', 'GW200128_022011-v1', 'GW200129_065458-v1', 'GW200202_154313-v1', 'GW200208_130117-v1', 'GW200208_222617-v1', 'GW200209_085452-v1', 'GW200210_092254-v1', 'GW200216_220804-v1', 'GW200219_094415-v1', 'GW200220_061928-v1', 'GW200220_124850-v1', 'GW200224_222234-v1', 'GW200225_060421-v1', 'GW200302_015811-v1', 'GW200306_093714-v1', 'GW200308_173609-v1', 'GW200311_115853-v1', 'GW200316_215756-v1', 'GW200322_091133-v1', 'GW230518_125908-v1', 'GW230529_181500-v1', 'GW230529_181500-v2', 'GW230531_141100-v1', 'GW230601_224134-v1', 'GW230603_174756-v1', 'GW230605_065343-v1', 'GW230606_004305-v1', 'GW230606_024545-v1', 'GW230608_205047-v1', 'GW230609_010824-v1', 'GW230609_064958-v1', 'GW230615_160825-v1', 'GW230618_102550-v1', 'GW230624_113103-v1', 'GW230624_214944-v1', 'GW230625_211655-v1', 'GW230627_015337-v1', 'GW230628_231200-v1', 'GW230630_070659-v1', 'GW230630_125806-v1', 'GW230630_234532-v1', 'GW230702_162025-v1', 'GW230702_185453-v1', 'GW230704_021211-v1', 'GW230704_212616-v1', 'GW230706_104333-v1', 'GW230707_124047-v1', 'GW230708_053705-v1', 'GW230708_071859-v1', 'GW230708_230935-v1', 'GW230709_063445-v1', 'GW230709_122727-v1', 'GW230712_090405-v1', 'GW230717_102139-v1', 'GW230721_222634-v1', 'GW230723_084820-v1', 'GW230723_101834-v1', 'GW230726_002940-v1', 'GW230728_083628-v1', 'GW230729_082317-v1', 'GW230731_215307-v1', 'GW230803_033412-v1', 'GW230805_034249-v1', 'GW230806_204041-v1', 'GW230807_205045-v1', 'GW230811_032116-v1', 'GW230814_061920-v1', 'GW230814_230901-v1', 'GW230814_230901-v2', 'GW230817_212349-v1', 'GW230819_171910-v1', 'GW230820_212515-v1', 'GW230822_230337-v1', 'GW230823_142524-v1', 'GW230824_033047-v1', 'GW230824_135331-v1', 'GW230825_041334-v1', 'GW230830_064744-v1', 'GW230831_015414-v1', 'GW230831_134621-v1', 'GW230902_122814-v1', 'GW230902_172430-v1', 'GW230902_224555-v1', 'GW230904_051013-v1', 'GW230904_152545-v1', 'GW230911_195324-v1', 'GW230914_111401-v1', 'GW230919_215712-v1', 'GW230920_064709-v1', 'GW230920_071124-v1', 'GW230922_020344-v1', 'GW230922_040658-v1', 'GW230924_124453-v1', 'GW230925_143957-v1', 'GW230927_043729-v1', 'GW230927_153832-v1', 'GW230928_215827-v1', 'GW230930_110730-v1', 'GW231001_140220-v1', 'GW231002_143916-v1', 'GW231004_232346-v1', 'GW231005_021030-v1', 'GW231005_091549-v1', 'GW231005_144455-v1', 'GW231008_142521-v1', 'GW231013_135504-v1', 'GW231014_040532-v1', 'GW231018_233037-v1', 'GW231020_142947-v1', 'GW231026_130704-v1', 'GW231028_153006-v1', 'GW231029_111508-v1', 'GW231102_052214-v1', 'GW231102_071736-v1', 'GW231102_232433-v1', 'GW231104_133418-v1', 'GW231108_125142-v1', 'GW231110_040320-v1', 'GW231113_122623-v1', 'GW231113_150041-v1', 'GW231113_200417-v1', 'GW231114_043211-v1', 'GW231118_005626-v1', 'GW231118_071402-v1', 'GW231118_090602-v1', 'GW231119_075248-v1', 'GW231120_022103-v1', 'GW231123_135430-v1', 'GW231123_135430-v2', 'GW231126_010928-v1', 'GW231127_165300-v1', 'GW231129_081745-v1', 'GW231204_090648-v1', 'GW231206_010629-v1', 'GW231206_233134-v1', 'GW231206_233901-v1', 'GW231213_111417-v1', 'GW231220_173406-v1', 'GW231221_135041-v1', 'GW231223_032836-v1', 'GW231223_075055-v1', 'GW231223_202619-v1', 'GW231224_024321-v1', 'GW231226_101520-v1', 'GW231230_170116-v1', 'GW231231_120147-v1', 'GW231231_154016-v1', 'GW240104_164932-v1', 'GW240105_151143-v1', 'GW240107_013215-v1', 'GW240109_050431-v1', 'GW250114_082203-v1', 'blind_injection-v1']\n"
          ]
        }
      ]
    },
    {
      "cell_type": "markdown",
      "source": [
        "Note that technically there are actually different versions of many of the events. Each version of each event has the same information (Catalog, Run, Detectors, Time, gps). The data you pull from the event using gwpy or gwosc may be different, but you should only be working with the highest version of each event, so the dataset was truncated to only include the highest versions, and to remove the annoying -vx tag at the end of the string. If you don't include the version tag when using gwpy or gwosc, it still works and automatically uses the highest version. Specifiation of version in the event string is only needed to access older versions."
      ],
      "metadata": {
        "id": "IkcumfaF9vju"
      },
      "id": "IkcumfaF9vju"
    },
    {
      "cell_type": "code",
      "source": [
        "print(type(_151012_2_v1.Detector))"
      ],
      "metadata": {
        "id": "EUe2VY2JVL8D",
        "outputId": "3db0aaff-4bbe-4871-8766-969a564d4bd9",
        "colab": {
          "base_uri": "https://localhost:8080/"
        }
      },
      "id": "EUe2VY2JVL8D",
      "execution_count": 14,
      "outputs": [
        {
          "output_type": "stream",
          "name": "stdout",
          "text": [
            "<class 'set'>\n"
          ]
        }
      ]
    },
    {
      "cell_type": "markdown",
      "source": [
        "When working with individual events such as \"GW150914\" it is easiest to get related information on that event using the object instance of it. The printed list below is the name of the object variable for each event. The naming scheme replaces any \".\" or \"-\" with _ and also puts a _ infront of every name since some start with numbers and variables can't. So for \"GW150914\" the object variable should be called \"_GW150914\". For the wierd case \"151012.2\" which has a period for some reason, the object variable name would be \"_151012_2\"."
      ],
      "metadata": {
        "id": "H9dSLbNS37Bc"
      },
      "id": "H9dSLbNS37Bc"
    },
    {
      "cell_type": "code",
      "source": [
        "DATA['Object_Name'] = '_' + DATA['Event']\n",
        "for i in range(len(DATA)):\n",
        "  DATA.loc[i, 'Object_Name'] = DATA['Object_Name'][i].replace('-', '_')\n",
        "  DATA.loc[i, 'Object_Name'] = DATA['Object_Name'][i].replace('.', '_')\n",
        "print(DATA['Object_Name'])"
      ],
      "metadata": {
        "id": "Cp84NzDdXLeW",
        "outputId": "3c10f3f0-cba1-4c0f-9868-60bcbcda66b3",
        "colab": {
          "base_uri": "https://localhost:8080/"
        }
      },
      "id": "Cp84NzDdXLeW",
      "execution_count": 15,
      "outputs": [
        {
          "output_type": "stream",
          "name": "stdout",
          "text": [
            "0      _blind_injection\n",
            "1             _GW150914\n",
            "2               _151008\n",
            "3             _151012_2\n",
            "4             _GW151012\n",
            "             ...       \n",
            "261    _GW240104_164932\n",
            "262    _GW240105_151143\n",
            "263    _GW240107_013215\n",
            "264    _GW240109_050431\n",
            "265    _GW250114_082203\n",
            "Name: Object_Name, Length: 266, dtype: object\n"
          ]
        }
      ]
    },
    {
      "cell_type": "markdown",
      "source": [
        "How to access information about an event inside of a loop, such that analysis can be done with many events with minimal code."
      ],
      "metadata": {
        "id": "ISSWVhaK3I9g"
      },
      "id": "ISSWVhaK3I9g"
    },
    {
      "cell_type": "code",
      "source": [
        "\n",
        "for i in range(len(DATA)):\n",
        "  print(globals()[DATA['Object_Name'][i]].Event)\n",
        "  #globals() is the dictionary\n",
        "  #globals()['name'] is the variable in the dictionary with name 'name'\n",
        "  #globals()['name'].Event is the Event attribute of the variable (object) 'name' in the case that the variable is an instance of the class Event (so an object)"
      ],
      "metadata": {
        "collapsed": true,
        "id": "W2Qp5Pv4ZNTa",
        "outputId": "61b126a8-a1b7-46f3-d36d-a4a1f08df62d",
        "colab": {
          "base_uri": "https://localhost:8080/"
        }
      },
      "id": "W2Qp5Pv4ZNTa",
      "execution_count": 16,
      "outputs": [
        {
          "output_type": "stream",
          "name": "stdout",
          "text": [
            "blind_injection\n",
            "GW150914\n",
            "151008\n",
            "151012.2\n",
            "GW151012\n",
            "151116\n",
            "GW151226\n",
            "161202\n",
            "161217\n",
            "GW170104\n",
            "170208\n",
            "170219\n",
            "170405\n",
            "170412\n",
            "170423\n",
            "GW170608\n",
            "170616\n",
            "170630\n",
            "170705\n",
            "170720\n",
            "GW170729\n",
            "GW170809\n",
            "GW170814\n",
            "GW170817\n",
            "GW170818\n",
            "GW170823\n",
            "GW190403_051519\n",
            "GW190408_181802\n",
            "GW190412\n",
            "GW190412_053044\n",
            "GW190413_052954\n",
            "GW190413_134308\n",
            "GW190421_213856\n",
            "GW190424_180648\n",
            "GW190425\n",
            "GW190425_081805\n",
            "GW190426_152155\n",
            "GW190426_190642\n",
            "GW190503_185404\n",
            "GW190512_180714\n",
            "GW190513_205428\n",
            "GW190514_065416\n",
            "GW190517_055101\n",
            "GW190519_153544\n",
            "GW190521\n",
            "GW190521_030229\n",
            "GW190521_074359\n",
            "GW190527_092055\n",
            "GW190531_023648\n",
            "GW190602_175927\n",
            "GW190620_030421\n",
            "GW190630_185205\n",
            "GW190701_203306\n",
            "GW190704_104834\n",
            "GW190706_222641\n",
            "GW190707_083226\n",
            "GW190707_093326\n",
            "GW190708_232457\n",
            "GW190711_030756\n",
            "GW190718_160159\n",
            "GW190719_215514\n",
            "GW190720_000836\n",
            "GW190725_174728\n",
            "GW190727_060333\n",
            "GW190728_064510\n",
            "GW190731_140936\n",
            "GW190803_022701\n",
            "GW190805_211137\n",
            "GW190814_192009\n",
            "GW190814\n",
            "GW190814_211039\n",
            "GW190818_232544\n",
            "GW190821_124821\n",
            "GW190828_063405\n",
            "GW190828_065509\n",
            "GW190906_054335\n",
            "GW190909_114149\n",
            "GW190910_012619\n",
            "GW190910_112807\n",
            "GW190915_235702\n",
            "GW190916_200658\n",
            "GW190917_114630\n",
            "GW190920_113516\n",
            "GW190924_021846\n",
            "190924_232654\n",
            "GW190925_232845\n",
            "GW190926_050336\n",
            "GW190929_012149\n",
            "GW190930_133541\n",
            "GW191103_012549\n",
            "GW191105_143521\n",
            "GW191109_010717\n",
            "GW191113_071753\n",
            "191118_212859\n",
            "GW191126_115259\n",
            "GW191127_050227\n",
            "GW191129_134029\n",
            "GW191204_110529\n",
            "GW191204_171526\n",
            "GW191215_223052\n",
            "GW191216_213338\n",
            "GW191219_163120\n",
            "GW191222_033537\n",
            "191223_014159\n",
            "191225_215715\n",
            "GW191230_180458\n",
            "GW200105\n",
            "GW200105_162426\n",
            "GW200112_155838\n",
            "200114_020818\n",
            "GW200115\n",
            "GW200115_042309\n",
            "200121_031748\n",
            "GW200128_022011\n",
            "GW200129_065458\n",
            "200201_203549\n",
            "GW200202_154313\n",
            "GW200208_130117\n",
            "GW200208_222617\n",
            "GW200209_085452\n",
            "GW200210_092254\n",
            "200214_224526\n",
            "GW200216_220804\n",
            "GW200219_094415\n",
            "200219_201407\n",
            "GW200220_061928\n",
            "GW200220_124850\n",
            "GW200224_222234\n",
            "GW200225_060421\n",
            "GW200302_015811\n",
            "GW200306_093714\n",
            "GW200308_173609\n",
            "200311_103121\n",
            "GW200311_115853\n",
            "GW200316_215756\n",
            "GW200322_091133\n",
            "GW230518_125908\n",
            "GW230529_181500\n",
            "GW230531_141100\n",
            "GW230601_224134\n",
            "GW230603_174756\n",
            "GW230605_065343\n",
            "GW230606_004305\n",
            "GW230606_024545\n",
            "GW230608_205047\n",
            "GW230609_010824\n",
            "GW230609_064958\n",
            "GW230615_160825\n",
            "GW230618_102550\n",
            "GW230624_113103\n",
            "GW230624_214944\n",
            "GW230625_211655\n",
            "GW230627_015337\n",
            "GW230628_231200\n",
            "GW230630_070659\n",
            "GW230630_125806\n",
            "GW230630_234532\n",
            "GW230702_162025\n",
            "GW230702_185453\n",
            "GW230704_021211\n",
            "GW230704_212616\n",
            "GW230706_104333\n",
            "GW230707_124047\n",
            "GW230708_053705\n",
            "GW230708_071859\n",
            "GW230708_230935\n",
            "GW230709_063445\n",
            "GW230709_122727\n",
            "GW230712_090405\n",
            "GW230717_102139\n",
            "GW230721_222634\n",
            "GW230723_084820\n",
            "GW230723_101834\n",
            "GW230726_002940\n",
            "GW230728_083628\n",
            "GW230729_082317\n",
            "GW230731_215307\n",
            "GW230803_033412\n",
            "GW230805_034249\n",
            "GW230806_204041\n",
            "GW230807_205045\n",
            "GW230811_032116\n",
            "GW230814_061920\n",
            "GW230814_230901\n",
            "GW230817_212349\n",
            "GW230819_171910\n",
            "GW230820_212515\n",
            "GW230822_230337\n",
            "GW230823_142524\n",
            "GW230824_033047\n",
            "GW230824_135331\n",
            "GW230825_041334\n",
            "GW230830_064744\n",
            "GW230831_015414\n",
            "GW230831_134621\n",
            "GW230902_122814\n",
            "GW230902_172430\n",
            "GW230902_224555\n",
            "GW230904_051013\n",
            "GW230904_152545\n",
            "GW230911_195324\n",
            "GW230914_111401\n",
            "GW230919_215712\n",
            "GW230920_064709\n",
            "GW230920_071124\n",
            "GW230922_020344\n",
            "GW230922_040658\n",
            "GW230924_124453\n",
            "GW230925_143957\n",
            "GW230927_043729\n",
            "GW230927_153832\n",
            "GW230928_215827\n",
            "GW230930_110730\n",
            "GW231001_140220\n",
            "GW231002_143916\n",
            "GW231004_232346\n",
            "GW231005_021030\n",
            "GW231005_091549\n",
            "GW231005_144455\n",
            "GW231008_142521\n",
            "GW231013_135504\n",
            "GW231014_040532\n",
            "GW231018_233037\n",
            "GW231020_142947\n",
            "GW231026_130704\n",
            "GW231028_153006\n",
            "GW231029_111508\n",
            "GW231102_052214\n",
            "GW231102_071736\n",
            "GW231102_232433\n",
            "GW231104_133418\n",
            "GW231108_125142\n",
            "GW231110_040320\n",
            "GW231113_122623\n",
            "GW231113_150041\n",
            "GW231113_200417\n",
            "GW231114_043211\n",
            "GW231118_005626\n",
            "GW231118_071402\n",
            "GW231118_090602\n",
            "GW231119_075248\n",
            "GW231120_022103\n",
            "GW231123_135430\n",
            "GW231126_010928\n",
            "GW231127_165300\n",
            "GW231129_081745\n",
            "GW231204_090648\n",
            "GW231206_010629\n",
            "GW231206_233134\n",
            "GW231206_233901\n",
            "GW231213_111417\n",
            "GW231220_173406\n",
            "GW231221_135041\n",
            "GW231223_032836\n",
            "GW231223_075055\n",
            "GW231223_202619\n",
            "GW231224_024321\n",
            "GW231226_101520\n",
            "GW231230_170116\n",
            "GW231231_120147\n",
            "GW231231_154016\n",
            "GW240104_164932\n",
            "GW240105_151143\n",
            "GW240107_013215\n",
            "GW240109_050431\n",
            "GW250114_082203\n"
          ]
        }
      ]
    },
    {
      "cell_type": "markdown",
      "source": [
        "In this case the code prints the actual Event string of each event, the string that needs to be used in gwosc or gwpy functions (as apposed to the event Object_Name which has been typeset to be a valid variable name). To instead print other information associated with the event, \".Event\" could be replaced with \".Catalog\", \".Run\", \".Detector\", \".Time\", or \".gps\". Each of which will return the associated string or value that can be used by gwosc or gwpy."
      ],
      "metadata": {
        "id": "XEjyLVaT5QtH"
      },
      "id": "XEjyLVaT5QtH"
    },
    {
      "cell_type": "code",
      "source": [],
      "metadata": {
        "id": "Y7Q1YZNxzzJ9"
      },
      "id": "Y7Q1YZNxzzJ9",
      "execution_count": null,
      "outputs": []
    },
    {
      "cell_type": "markdown",
      "source": [
        "#GW150914 Analysis (Bare Minimum)\n"
      ],
      "metadata": {
        "id": "uu8QAj9S17aj"
      },
      "id": "uu8QAj9S17aj"
    },
    {
      "cell_type": "markdown",
      "source": [
        "###Choose cuts and lters that clean up the data as best you can.\n",
        "Be methodical and take your time with this, trying many different ways to clean your data. This will be the most important step to improve your uncertainties!"
      ],
      "metadata": {
        "id": "QtdYxAXI2ZlQ"
      },
      "id": "QtdYxAXI2ZlQ"
    },
    {
      "cell_type": "code",
      "source": [],
      "metadata": {
        "id": "HfW55sOF2OGn"
      },
      "id": "HfW55sOF2OGn",
      "execution_count": null,
      "outputs": []
    },
    {
      "cell_type": "markdown",
      "source": [
        "###Create a simple oscillating function and use it to fit the data.\n",
        "This can be done in multiple steps if you separate the major sections of the data in a clever manner, or all at once depending on the complexity of your function."
      ],
      "metadata": {
        "id": "zxRYeQ3i2NdI"
      },
      "id": "zxRYeQ3i2NdI"
    },
    {
      "cell_type": "code",
      "source": [],
      "metadata": {
        "id": "T3uxpAI62V_Y"
      },
      "id": "T3uxpAI62V_Y",
      "execution_count": null,
      "outputs": []
    },
    {
      "cell_type": "markdown",
      "source": [
        "###Determine the chirp mass of the merger events, making sure to correctly determine the uncertainty of the chirp mass from the experimental data."
      ],
      "metadata": {
        "id": "rROvi94J2WHM"
      },
      "id": "rROvi94J2WHM"
    },
    {
      "cell_type": "markdown",
      "source": [
        "Make sure to include the detectors strain noise as part of your error analysis, and how your cuts affect the signal-to-noise ratio."
      ],
      "metadata": {
        "id": "qNhxGnng2hRt"
      },
      "id": "qNhxGnng2hRt"
    },
    {
      "cell_type": "code",
      "source": [],
      "metadata": {
        "id": "kjgdQzI42w-l"
      },
      "id": "kjgdQzI42w-l",
      "execution_count": null,
      "outputs": []
    },
    {
      "cell_type": "markdown",
      "source": [
        "Determine the mass rest by using the fit you made above, then by using the tools available in Bilby and compare the results from the two methods."
      ],
      "metadata": {
        "id": "M9wloxtG2mEF"
      },
      "id": "M9wloxtG2mEF"
    },
    {
      "cell_type": "code",
      "source": [],
      "metadata": {
        "id": "Bj-Fpgp42xbi"
      },
      "id": "Bj-Fpgp42xbi",
      "execution_count": null,
      "outputs": []
    },
    {
      "cell_type": "markdown",
      "source": [
        "Plot and fit a Gaussian to your chirp mass to help determine your uncertainty."
      ],
      "metadata": {
        "id": "uw0Oar3W2nss"
      },
      "id": "uw0Oar3W2nss"
    },
    {
      "cell_type": "code",
      "source": [],
      "metadata": {
        "id": "ac2DJPr22yJn"
      },
      "id": "ac2DJPr22yJn",
      "execution_count": null,
      "outputs": []
    },
    {
      "cell_type": "markdown",
      "source": [
        "#Other Shit"
      ],
      "metadata": {
        "id": "IIippllr2yT9"
      },
      "id": "IIippllr2yT9"
    },
    {
      "cell_type": "markdown",
      "source": [
        "Gyatt Rizzler type shit fr fr"
      ],
      "metadata": {
        "id": "naWx8lty28n-"
      },
      "id": "naWx8lty28n-"
    },
    {
      "cell_type": "code",
      "source": [
        "print(event_gps('GW190425-v1'))\n",
        "print(event_gps('GW190425-v2'))"
      ],
      "metadata": {
        "colab": {
          "base_uri": "https://localhost:8080/"
        },
        "id": "_auRXnXU28uQ",
        "outputId": "5e169bea-b64b-4614-8ba3-5df6cc9905f9"
      },
      "id": "_auRXnXU28uQ",
      "execution_count": 9,
      "outputs": [
        {
          "output_type": "stream",
          "name": "stdout",
          "text": [
            "1240215503.0\n",
            "1240215503.0\n"
          ]
        }
      ]
    }
  ],
  "metadata": {
    "colab": {
      "provenance": [],
      "include_colab_link": true
    },
    "language_info": {
      "name": "python"
    },
    "kernelspec": {
      "name": "python3",
      "display_name": "Python 3"
    }
  },
  "nbformat": 4,
  "nbformat_minor": 5
}